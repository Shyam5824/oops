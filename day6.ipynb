{
 "cells": [
  {
   "cell_type": "code",
   "execution_count": 1,
   "id": "7294b451-2fe3-40b2-bf6a-35ab1535cc4e",
   "metadata": {},
   "outputs": [
    {
     "name": "stdout",
     "output_type": "stream",
     "text": [
      "hlo kes\n",
      "hlo vijay\n"
     ]
    }
   ],
   "source": [
    "#over loading sample\n",
    "def hi(name='kes'):\n",
    "    print('hlo',name)\n",
    "hi()\n",
    "hi('vijay')"
   ]
  },
  {
   "cell_type": "code",
   "execution_count": 3,
   "id": "a4452523-78c2-4846-b2c5-ea6436aedff3",
   "metadata": {},
   "outputs": [
    {
     "name": "stdout",
     "output_type": "stream",
     "text": [
      "24\n"
     ]
    }
   ],
   "source": [
    "#multiple arg overloading\n",
    "def abc(*args):\n",
    "    return sum(args)\n",
    "print(abc(12,3,4,5))"
   ]
  },
  {
   "cell_type": "code",
   "execution_count": 9,
   "id": "2489b218-006c-4522-bb97-da756c45c56d",
   "metadata": {},
   "outputs": [
    {
     "name": "stdout",
     "output_type": "stream",
     "text": [
      "no data\n",
      "Name: vijay\n",
      "Name: steve,Age: 45\n"
     ]
    },
    {
     "data": {
      "text/plain": [
       "<__main__.student at 0x1919596fa70>"
      ]
     },
     "execution_count": 9,
     "metadata": {},
     "output_type": "execute_result"
    }
   ],
   "source": [
    "#simple overloading using class with constructor\n",
    "class student:\n",
    "    def __init__(self,name=None,age=None):\n",
    "        if name and age:\n",
    "            print(f\"Name: {name},Age: {age}\")\n",
    "        elif name:\n",
    "            print(f\"Name: {name}\")\n",
    "        else:\n",
    "            print('no data')\n",
    "\n",
    "\n",
    "\n",
    "student()\n",
    "student('vijay')\n",
    "student('steve',45)\n"
   ]
  },
  {
   "cell_type": "code",
   "execution_count": 13,
   "id": "3b8f9fdd-fbbf-4739-8576-f9b42b81efcc",
   "metadata": {},
   "outputs": [
    {
     "name": "stdout",
     "output_type": "stream",
     "text": [
      "True\n"
     ]
    }
   ],
   "source": [
    "n=00\n",
    "print(isinstance(n,int))"
   ]
  },
  {
   "cell_type": "code",
   "execution_count": 21,
   "id": "94d66065-930d-4f22-98a2-c23c69be250c",
   "metadata": {},
   "outputs": [
    {
     "name": "stdout",
     "output_type": "stream",
     "text": [
      "True\n",
      "True\n"
     ]
    }
   ],
   "source": [
    "class p:\n",
    "    pass\n",
    "class d(p):\n",
    "    pass\n",
    "d1=d()\n",
    "print(isinstance(d1,d))\n",
    "print(isinstance(d1,p))"
   ]
  },
  {
   "cell_type": "code",
   "execution_count": 27,
   "id": "03b53cfd-2b54-4588-95d2-196d0b420468",
   "metadata": {},
   "outputs": [
    {
     "name": "stdout",
     "output_type": "stream",
     "text": [
      "4,8\n"
     ]
    }
   ],
   "source": [
    "# overloading with operators\n",
    "class val:\n",
    "    def __init__(self,a,b):\n",
    "        self.a=a\n",
    "        self.b=b\n",
    "    def __add__(self,ol):\n",
    "        return val(self.a+ol.a,self.b+ol.b)\n",
    "    def __str__(self):\n",
    "        return f\"{self.a},{self.b}\"\n",
    "a=val(1,3)\n",
    "b=val(3,5)\n",
    "print(a+b)\n"
   ]
  },
  {
   "cell_type": "code",
   "execution_count": 46,
   "id": "02efbaaa-7842-4ee5-8d41-bdfde1b92f1c",
   "metadata": {},
   "outputs": [
    {
     "name": "stdout",
     "output_type": "stream",
     "text": [
      "result: 4 + 6i\n"
     ]
    }
   ],
   "source": [
    "'''code for adding two complex numbers, where imaginary numbers and real numbers\n",
    "to be evaluated seperately with __add__() method and raise and error exception\n",
    "with this value where unsupportive data type is encountered\n",
    "a= 1+2i\n",
    "b=3+4i\n",
    "op: 4+6i '''\n",
    "\n",
    "class complex:\n",
    "    def __init__(self,r=0,i=0):\n",
    "        self.r=r\n",
    "        self.i=i\n",
    "    def __add__(self,ol):\n",
    "        if isinstance(ol,complex):\n",
    "            return complex(self.r+ol.r,self.i+ol.i)\n",
    "        else:\n",
    "            raise TypeError(\"Unsupported operand-type\")\n",
    "    def __str__(self):\n",
    "        return f\"{self.r} + {self.i}i\"\n",
    "a=complex(1,2)\n",
    "b=complex(3,4)\n",
    "print(\"result:\",a+b)"
   ]
  },
  {
   "cell_type": "code",
   "execution_count": 50,
   "id": "e0e34287-4e8a-42e2-a0cd-3cd6d91ca6fa",
   "metadata": {},
   "outputs": [
    {
     "name": "stdout",
     "output_type": "stream",
     "text": [
      "sound!\n",
      "barks!\n"
     ]
    }
   ],
   "source": [
    "# overriding redefine the child class which is already exists\n",
    "\n",
    "class p:\n",
    "    def s(self):\n",
    "        print(\"sound!\")\n",
    "class d(p):\n",
    "    def s(self):\n",
    "        print('barks!')\n",
    "a=p()\n",
    "a.s()\n",
    "d1=d()\n",
    "d1.s()"
   ]
  },
  {
   "cell_type": "code",
   "execution_count": 60,
   "id": "c25e71cd-e229-4b03-940e-3e0343fe709e",
   "metadata": {},
   "outputs": [
    {
     "name": "stdout",
     "output_type": "stream",
     "text": [
      "sound!\n",
      "barks!\n"
     ]
    }
   ],
   "source": [
    "# overriding redefine the child class which is already exists\n",
    "\n",
    "class p:\n",
    "    def s(self):\n",
    "        print(\"sound!\")\n",
    "class d(p):\n",
    "    def s(self):\n",
    "        super().s() #parent method\n",
    "        print('barks!')\n",
    "a=d()\n",
    "a.s()\n"
   ]
  },
  {
   "cell_type": "code",
   "execution_count": 66,
   "id": "4d82236f-3a7c-4cb4-9dfe-420436fc0e3d",
   "metadata": {},
   "outputs": [
    {
     "name": "stdout",
     "output_type": "stream",
     "text": [
      "student constructor\n",
      "person constructor\n"
     ]
    }
   ],
   "source": [
    "# constructor overriding \n",
    "class student:\n",
    "    def __init__(self,name):\n",
    "        self.name=name\n",
    "        print(\"student constructor\")\n",
    "class person(student):\n",
    "    def __init__(self,name,grade):\n",
    "        super().__init__(name)\n",
    "        self.grade=grade\n",
    "        print(\"person constructor\")\n",
    "s=person('vijay','F')"
   ]
  },
  {
   "cell_type": "code",
   "execution_count": 68,
   "id": "87e82d5e-b31d-408d-9ddd-ceea8e498945",
   "metadata": {},
   "outputs": [
    {
     "name": "stdout",
     "output_type": "stream",
     "text": [
      "sounds!\n",
      "barks!\n",
      "Meows\n"
     ]
    }
   ],
   "source": [
    "# method overriding by a polymorphism eval\n",
    "\n",
    "class p:\n",
    "    def s(self):\n",
    "        print(\"sounds!\")\n",
    "class d:\n",
    "    def s(self):\n",
    "        print(\"barks!\")\n",
    "class c:\n",
    "    def s(self):\n",
    "        print(\"Meows\")\n",
    "pets=[p(),d(),c()]\n",
    "\n",
    "for p in pets:\n",
    "    p.s()"
   ]
  },
  {
   "cell_type": "code",
   "execution_count": null,
   "id": "01f920ba-e253-42f9-a524-edad0bb89a8c",
   "metadata": {},
   "outputs": [],
   "source": []
  }
 ],
 "metadata": {
  "kernelspec": {
   "display_name": "Python 3 (ipykernel)",
   "language": "python",
   "name": "python3"
  },
  "language_info": {
   "codemirror_mode": {
    "name": "ipython",
    "version": 3
   },
   "file_extension": ".py",
   "mimetype": "text/x-python",
   "name": "python",
   "nbconvert_exporter": "python",
   "pygments_lexer": "ipython3",
   "version": "3.12.7"
  }
 },
 "nbformat": 4,
 "nbformat_minor": 5
}
